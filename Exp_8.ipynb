{
 "cells": [
  {
   "cell_type": "markdown",
   "id": "26b3d948",
   "metadata": {},
   "source": [
    "# CENTRAL TENDENCY OF MEASURES MEAN,MODE,MEDIAN"
   ]
  },
  {
   "cell_type": "code",
   "execution_count": 1,
   "id": "77396559",
   "metadata": {},
   "outputs": [],
   "source": [
    "#Name : Harsh Inchurkar\n",
    "#Roll no. : 46\n",
    "#Section : 3A\n",
    "#Date : 27/07/2024"
   ]
  },
  {
   "cell_type": "code",
   "execution_count": 2,
   "id": "daf47a1e",
   "metadata": {},
   "outputs": [],
   "source": [
    "#Aim: To Perform Central Tendency of Measures"
   ]
  },
  {
   "cell_type": "code",
   "execution_count": 3,
   "id": "ea4f11ca",
   "metadata": {},
   "outputs": [],
   "source": [
    "Age=[21,20,19,22,20,23,21,22,21,22,22,22,19,20,25,24,20,25,24,23,22,21,20,22]"
   ]
  },
  {
   "cell_type": "code",
   "execution_count": 4,
   "id": "0d8ad6c8",
   "metadata": {},
   "outputs": [
    {
     "data": {
      "text/plain": [
       "[21,\n",
       " 20,\n",
       " 19,\n",
       " 22,\n",
       " 20,\n",
       " 23,\n",
       " 21,\n",
       " 22,\n",
       " 21,\n",
       " 22,\n",
       " 22,\n",
       " 22,\n",
       " 19,\n",
       " 20,\n",
       " 25,\n",
       " 24,\n",
       " 20,\n",
       " 25,\n",
       " 24,\n",
       " 23,\n",
       " 22,\n",
       " 21,\n",
       " 20,\n",
       " 22]"
      ]
     },
     "execution_count": 4,
     "metadata": {},
     "output_type": "execute_result"
    }
   ],
   "source": [
    "Age"
   ]
  },
  {
   "cell_type": "code",
   "execution_count": 5,
   "id": "df352d24",
   "metadata": {},
   "outputs": [],
   "source": [
    "import statistics"
   ]
  },
  {
   "cell_type": "code",
   "execution_count": 6,
   "id": "cf073b7a",
   "metadata": {},
   "outputs": [],
   "source": [
    "MEAN=statistics.mean(Age)"
   ]
  },
  {
   "cell_type": "code",
   "execution_count": 7,
   "id": "a0bef75e",
   "metadata": {},
   "outputs": [
    {
     "data": {
      "text/plain": [
       "21.666666666666668"
      ]
     },
     "execution_count": 7,
     "metadata": {},
     "output_type": "execute_result"
    }
   ],
   "source": [
    "MEAN"
   ]
  },
  {
   "cell_type": "code",
   "execution_count": 8,
   "id": "78d87bd9",
   "metadata": {},
   "outputs": [],
   "source": [
    "Median=statistics.median(Age)"
   ]
  },
  {
   "cell_type": "code",
   "execution_count": 9,
   "id": "022a8fa2",
   "metadata": {},
   "outputs": [
    {
     "data": {
      "text/plain": [
       "22.0"
      ]
     },
     "execution_count": 9,
     "metadata": {},
     "output_type": "execute_result"
    }
   ],
   "source": [
    "Median"
   ]
  },
  {
   "cell_type": "code",
   "execution_count": 10,
   "id": "c6945844",
   "metadata": {},
   "outputs": [],
   "source": [
    "MODE=statistics.mode(Age)"
   ]
  },
  {
   "cell_type": "code",
   "execution_count": 11,
   "id": "a1d7414a",
   "metadata": {},
   "outputs": [
    {
     "data": {
      "text/plain": [
       "22"
      ]
     },
     "execution_count": 11,
     "metadata": {},
     "output_type": "execute_result"
    }
   ],
   "source": [
    "MODE"
   ]
  },
  {
   "cell_type": "code",
   "execution_count": null,
   "id": "ac2576be",
   "metadata": {},
   "outputs": [],
   "source": []
  }
 ],
 "metadata": {
  "kernelspec": {
   "display_name": "Python 3 (ipykernel)",
   "language": "python",
   "name": "python3"
  },
  "language_info": {
   "codemirror_mode": {
    "name": "ipython",
    "version": 3
   },
   "file_extension": ".py",
   "mimetype": "text/x-python",
   "name": "python",
   "nbconvert_exporter": "python",
   "pygments_lexer": "ipython3",
   "version": "3.11.4"
  }
 },
 "nbformat": 4,
 "nbformat_minor": 5
}
