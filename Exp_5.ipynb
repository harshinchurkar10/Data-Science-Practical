{
 "cells": [
  {
   "cell_type": "markdown",
   "id": "e049e38b",
   "metadata": {},
   "source": [
    "# Creation of Array"
   ]
  },
  {
   "cell_type": "code",
   "execution_count": 2,
   "id": "973c8866",
   "metadata": {},
   "outputs": [],
   "source": [
    "#Name : Harsh Inchurkar\n",
    "#Roll no. : 46\n",
    "#Section : 3A\n",
    "#Date : 24/08/2024"
   ]
  },
  {
   "cell_type": "code",
   "execution_count": 3,
   "id": "5ed9e0be",
   "metadata": {},
   "outputs": [],
   "source": [
    "#Aim : Creation of 1D, 2D and multidimensional array (Data cube/OLAP) using numpy."
   ]
  },
  {
   "cell_type": "code",
   "execution_count": 4,
   "id": "caa9022c",
   "metadata": {},
   "outputs": [],
   "source": [
    "import numpy as np"
   ]
  },
  {
   "cell_type": "code",
   "execution_count": 5,
   "id": "d4208633",
   "metadata": {},
   "outputs": [],
   "source": [
    "a1=np.array([10,20,30,40,50])"
   ]
  },
  {
   "cell_type": "code",
   "execution_count": 6,
   "id": "8f3b22cb",
   "metadata": {},
   "outputs": [
    {
     "data": {
      "text/plain": [
       "array([10, 20, 30, 40, 50])"
      ]
     },
     "execution_count": 6,
     "metadata": {},
     "output_type": "execute_result"
    }
   ],
   "source": [
    "a1"
   ]
  },
  {
   "cell_type": "code",
   "execution_count": 7,
   "id": "905a77b7",
   "metadata": {},
   "outputs": [],
   "source": [
    "a2=np.array([[10,20,30,40],[60,70,80,90]])"
   ]
  },
  {
   "cell_type": "code",
   "execution_count": 8,
   "id": "0dbd7f8b",
   "metadata": {},
   "outputs": [
    {
     "data": {
      "text/plain": [
       "array([[10, 20, 30, 40],\n",
       "       [60, 70, 80, 90]])"
      ]
     },
     "execution_count": 8,
     "metadata": {},
     "output_type": "execute_result"
    }
   ],
   "source": [
    " a2"
   ]
  },
  {
   "cell_type": "code",
   "execution_count": 9,
   "id": "caadf5b6",
   "metadata": {},
   "outputs": [],
   "source": [
    "a3=np.array([['R1','R2','R3','R4'],['ABC','XYZ','PQR','EFG'],[40,55,64,22]])"
   ]
  },
  {
   "cell_type": "code",
   "execution_count": 10,
   "id": "8d8cddc1",
   "metadata": {},
   "outputs": [
    {
     "data": {
      "text/plain": [
       "array([['R1', 'R2', 'R3', 'R4'],\n",
       "       ['ABC', 'XYZ', 'PQR', 'EFG'],\n",
       "       ['40', '55', '64', '22']], dtype='<U11')"
      ]
     },
     "execution_count": 10,
     "metadata": {},
     "output_type": "execute_result"
    }
   ],
   "source": [
    "a3"
   ]
  },
  {
   "cell_type": "code",
   "execution_count": null,
   "id": "6e42a98f",
   "metadata": {},
   "outputs": [],
   "source": []
  }
 ],
 "metadata": {
  "kernelspec": {
   "display_name": "Python 3 (ipykernel)",
   "language": "python",
   "name": "python3"
  },
  "language_info": {
   "codemirror_mode": {
    "name": "ipython",
    "version": 3
   },
   "file_extension": ".py",
   "mimetype": "text/x-python",
   "name": "python",
   "nbconvert_exporter": "python",
   "pygments_lexer": "ipython3",
   "version": "3.11.4"
  }
 },
 "nbformat": 4,
 "nbformat_minor": 5
}
